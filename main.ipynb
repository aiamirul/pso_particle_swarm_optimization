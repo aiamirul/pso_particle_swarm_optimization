{
 "cells": [
  {
   "cell_type": "code",
   "execution_count": 1,
   "metadata": {},
   "outputs": [],
   "source": [
    "from pso import  PSO\n",
    "import fitness as fit"
   ]
  },
  {
   "cell_type": "code",
   "execution_count": 12,
   "metadata": {},
   "outputs": [
    {
     "name": "stdout",
     "output_type": "stream",
     "text": [
      "\n",
      "OPTIMUM SOLUTION\n",
      "  > [16.0, 16.0, 5.0]\n",
      "\n",
      "OPTIMUM FITNESS\n",
      "  > 3.189059870763704e+24\n",
      "\n"
     ]
    }
   ],
   "source": [
    "def fitfunc(X):\n",
    "    x, y, z = X[0][0], X[1][0] , X[2][0]\n",
    "    \n",
    "    f = (x**2 + y - y*3)**2 +(x + z**2 - 7)**y\n",
    "    #print(\"{} {} {} = {}\".format(x,y,z,f))#print(f)\n",
    "    return f\n",
    "\n",
    "parabounds = [(16,64),(16,64),(5,50)]\n",
    "n = len(list(parabounds))\n",
    "population = 10\n",
    "iterations = 100\n",
    "PSO(fitness=fitfunc,P=population, n=n, X0=([32,32,20]),Tmax=iterations, bound=parabounds,min=True).execute()"
   ]
  },
  {
   "cell_type": "code",
   "execution_count": null,
   "metadata": {},
   "outputs": [],
   "source": []
  },
  {
   "cell_type": "code",
   "execution_count": null,
   "metadata": {},
   "outputs": [],
   "source": []
  }
 ],
 "metadata": {
  "kernelspec": {
   "display_name": "frt",
   "language": "python",
   "name": "frt"
  },
  "language_info": {
   "codemirror_mode": {
    "name": "ipython",
    "version": 3
   },
   "file_extension": ".py",
   "mimetype": "text/x-python",
   "name": "python",
   "nbconvert_exporter": "python",
   "pygments_lexer": "ipython3",
   "version": "3.6.13"
  },
  "orig_nbformat": 4
 },
 "nbformat": 4,
 "nbformat_minor": 2
}
